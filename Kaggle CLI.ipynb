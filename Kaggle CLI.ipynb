{
 "cells": [
  {
   "cell_type": "markdown",
   "metadata": {},
   "source": [
    "[Full Kaggle CLI Docs](https://github.com/Kaggle/kaggle-api#competitions)\n",
    "\n",
    "[API Docs](https://www.kaggle.com/docs/api)\n",
    "\n",
    "`pip install kaggle`\n",
    "\n",
    "- `kaggle competitions list`: list the currently active competitions\n",
    "- `kaggle competitions download -c [COMPETITION]`: download files associated with a competition\n",
    "- `kaggle competitions submit -c [COMPETITION] -f [FILE PATH] -m [MESSAGE]`: make a competition submission\n",
    "- `chmod 600 /Users/martinreyes/.kaggle/kaggle.json`: Make Kaggle API key unreadable by other users on Kaggle\n",
    "- `kaggle competitions submissions -c [COMPETITION NAME]`: list all previous submissions\n",
    "- To explore some further CLI arguments, remember that you can always append `-h` after any call to see the help menu for that command.\n",
    "\n",
    "- `kaggle datasets list -s [KEYWORD]`: list datasets matching a search term\n",
    "- `kaggle datasets download -d [DATASET]`: download files associated with a dataset"
   ]
  },
  {
   "cell_type": "code",
   "execution_count": null,
   "metadata": {},
   "outputs": [],
   "source": []
  }
 ],
 "metadata": {
  "kernelspec": {
   "display_name": "Python 3",
   "language": "python",
   "name": "python3"
  },
  "language_info": {
   "codemirror_mode": {
    "name": "ipython",
    "version": 3
   },
   "file_extension": ".py",
   "mimetype": "text/x-python",
   "name": "python",
   "nbconvert_exporter": "python",
   "pygments_lexer": "ipython3",
   "version": "3.8.5"
  },
  "toc": {
   "base_numbering": 1,
   "nav_menu": {},
   "number_sections": true,
   "sideBar": true,
   "skip_h1_title": true,
   "title_cell": "Table of Contents",
   "title_sidebar": "Contents",
   "toc_cell": false,
   "toc_position": {},
   "toc_section_display": true,
   "toc_window_display": false
  }
 },
 "nbformat": 4,
 "nbformat_minor": 4
}
